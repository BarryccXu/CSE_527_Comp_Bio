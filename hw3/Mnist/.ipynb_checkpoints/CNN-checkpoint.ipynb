{
 "cells": [
  {
   "cell_type": "code",
   "execution_count": 1,
   "metadata": {},
   "outputs": [
    {
     "name": "stderr",
     "output_type": "stream",
     "text": [
      "Using TensorFlow backend.\n"
     ]
    }
   ],
   "source": [
    "import numpy as np\n",
    "import matplotlib.pyplot as plt\n",
    "from keras.datasets import mnist\n",
    "from keras.models import Sequential\n",
    "from keras.layers.core import Dense, Dropout, Activation\n",
    "from keras.utils import np_utils\n",
    "#import tensorflow as tf\n",
    "#import keras.backend.tensorflow_backend as KTF\n",
    "#KTF.set_session(tf.Session(config=tf.ConfigProto(device_count={'gpu':1})))\n",
    "#use GPU GTX960M"
   ]
  },
  {
   "cell_type": "code",
   "execution_count": 2,
   "metadata": {},
   "outputs": [
    {
     "name": "stdout",
     "output_type": "stream",
     "text": [
      "X_train shape:  (60000, 28, 28)\n",
      "y_train shape:  (60000,)\n",
      "X_test shape:  (10000, 28, 28)\n",
      "y_test shape:  (10000,)\n"
     ]
    }
   ],
   "source": [
    "n_classes = 10\n",
    "# load data\n",
    "# I used the mnist data from keras\n",
    "(X_train, y_train), (X_test, y_test) = mnist.load_data()\n",
    "print(\"X_train shape: \", X_train.shape)\n",
    "print(\"y_train shape: \", y_train.shape)\n",
    "print(\"X_test shape: \", X_test.shape)\n",
    "print(\"y_test shape: \", y_test.shape)"
   ]
  },
  {
   "cell_type": "code",
   "execution_count": 3,
   "metadata": {},
   "outputs": [
    {
     "data": {
      "text/plain": [
       "Text(0.5,1,'Image index is: 37040  Label: 2')"
      ]
     },
     "execution_count": 3,
     "metadata": {},
     "output_type": "execute_result"
    },
    {
     "data": {
      "image/png": "[encoded data removed]",
      "text/plain": [
       "<matplotlib.figure.Figure at 0x20bc56ee5f8>"
      ]
     },
     "metadata": {},
     "output_type": "display_data"
    }
   ],
   "source": [
    "#randomly plot one image to check the dataset\n",
    "%matplotlib inline\n",
    "rand_num = np.random.randint(X_train.shape[0])\n",
    "plt.imshow(X_train[rand_num], cmap='gray')\n",
    "plt.title(\"Image index is: \" + str(rand_num) + \"  Label: \" + str(y_train[rand_num]))"
   ]
  },
  {
   "cell_type": "code",
   "execution_count": 4,
   "metadata": {
    "collapsed": true
   },
   "outputs": [],
   "source": [
    "#uint8 to float\n",
    "X_train = X_train.astype('float32')\n",
    "X_test = X_test.astype('float32')\n",
    "#normalize to [0, 1]\n",
    "X_train /= 255\n",
    "X_test /= 255\n",
    "#one-hot-encoding\n",
    "y_train = np_utils.to_categorical(y_train, n_classes)\n",
    "y_test = np_utils.to_categorical(y_test, n_classes)"
   ]
  },
  {
   "cell_type": "code",
   "execution_count": 7,
   "metadata": {
    "collapsed": true
   },
   "outputs": [],
   "source": [
    "#Implement and run a network of multi-layer perceptions with a single hidden layercontaining 15 nodes.\n",
    "\n",
    "#flatten\n",
    "X_train_flatten = X_train.reshape(60000, 784)\n",
    "X_test_flatten = X_test.reshape(10000, 784)\n",
    "\n",
    "#define model\n",
    "model_b = Sequential()\n",
    "\n",
    "# First layer \n",
    "model_b.add(Dense(30, input_shape=(784,)))\n",
    "model_b.add(Activation('relu'))\n",
    "\n",
    "#second layer\n",
    "model_b.add(Dense(15))\n",
    "model_b.add(Activation('relu'))\n",
    "\n",
    "# output layer\n",
    "model_b.add(Dense(10))\n",
    "model_b.add(Activation('softmax'))\n",
    "\n",
    "# Define loss\n",
    "model_b.compile(optimizer='adam',\n",
    "              loss='categorical_crossentropy',\n",
    "              metrics=['accuracy'])"
   ]
  },
  {
   "cell_type": "code",
   "execution_count": 8,
   "metadata": {},
   "outputs": [
    {
     "name": "stdout",
     "output_type": "stream",
     "text": [
      "Train on 60000 samples, validate on 10000 samples\n",
      "Epoch 1/10\n",
      "60000/60000 [==============================] - 5s 75us/step - loss: 0.6169 - acc: 0.8203 - val_loss: 0.2819 - val_acc: 0.9194\n",
      "Epoch 2/10\n",
      "60000/60000 [==============================] - 3s 47us/step - loss: 0.2474 - acc: 0.9291 - val_loss: 0.2095 - val_acc: 0.9406\n",
      "Epoch 3/10\n",
      "60000/60000 [==============================] - 3s 47us/step - loss: 0.1977 - acc: 0.9425 - val_loss: 0.1862 - val_acc: 0.9454\n",
      "Epoch 4/10\n",
      "60000/60000 [==============================] - 3s 47us/step - loss: 0.1691 - acc: 0.9508 - val_loss: 0.1618 - val_acc: 0.9523\n",
      "Epoch 5/10\n",
      "60000/60000 [==============================] - 3s 49us/step - loss: 0.1496 - acc: 0.9562 - val_loss: 0.1603 - val_acc: 0.9533\n",
      "Epoch 6/10\n",
      "60000/60000 [==============================] - 3s 48us/step - loss: 0.1350 - acc: 0.9602 - val_loss: 0.1442 - val_acc: 0.9567\n",
      "Epoch 7/10\n",
      "60000/60000 [==============================] - 3s 48us/step - loss: 0.1232 - acc: 0.9637 - val_loss: 0.1403 - val_acc: 0.9586\n",
      "Epoch 8/10\n",
      "60000/60000 [==============================] - 3s 49us/step - loss: 0.1136 - acc: 0.9664 - val_loss: 0.1337 - val_acc: 0.9597\n",
      "Epoch 9/10\n",
      "60000/60000 [==============================] - 3s 49us/step - loss: 0.1044 - acc: 0.9689 - val_loss: 0.1285 - val_acc: 0.9627\n",
      "Epoch 10/10\n",
      "60000/60000 [==============================] - 3s 48us/step - loss: 0.0972 - acc: 0.9714 - val_loss: 0.1283 - val_acc: 0.9630\n"
     ]
    }
   ],
   "source": [
    "history_b = model_b.fit(X_train_flatten, y_train, \n",
    "                        batch_size = 128, epochs=10, verbose=1,\n",
    "                        validation_data=(X_test_flatten, y_test))"
   ]
  },
  {
   "cell_type": "code",
   "execution_count": 9,
   "metadata": {},
   "outputs": [
    {
     "name": "stderr",
     "output_type": "stream",
     "text": [
      "E:\\Anaconda3\\envs\\tensorflow\\lib\\site-packages\\matplotlib\\cbook\\deprecation.py:106: MatplotlibDeprecationWarning: The set_color_cycle attribute was deprecated in version 1.5. Use set_prop_cycle instead.\n",
      "  warnings.warn(message, mplDeprecation, stacklevel=1)\n"
     ]
    },
    {
     "data": {
      "image/png": "[encoded data removed]",
      "text/plain": [
       "<matplotlib.figure.Figure at 0x1f288b32e80>"
      ]
     },
     "metadata": {},
     "output_type": "display_data"
    }
   ],
   "source": [
    "%matplotlib inline\n",
    "plt.figure()\n",
    "plt.gca().set_color_cycle(['red', 'blue'])\n",
    "plt.plot(history_b.history[\"loss\"])\n",
    "plt.plot(history_b.history[\"val_loss\"])\n",
    "plt.legend(['Train loss', 'Validation loss'], loc='upper right')\n",
    "plt.show()"
   ]
  },
  {
   "cell_type": "code",
   "execution_count": 5,
   "metadata": {
    "collapsed": true
   },
   "outputs": [],
   "source": [
    "    #Implement and run a convolutional neural net\n",
    "    from keras.layers import Flatten, Conv2D, MaxPooling2D\n",
    "    #define model\n",
    "    model_c = Sequential()\n",
    "    #first convolutional layer\n",
    "    model_c.add(Conv2D(32, (3, 3), activation = 'relu', input_shape = (28, 28, 1)))\n",
    "    model_c.add(MaxPooling2D(pool_size=(2, 2)))\n",
    "    #model_c.add(Dropout(0.25))\n",
    "    #second convolutional layer\n",
    "    model_c.add(Conv2D(16, (3, 3), activation = 'relu'))\n",
    "    model_c.add(MaxPooling2D(pool_size=(2, 2)))\n",
    "    #model_c.add(Dropout(0.25))\n",
    "    #fully-connected layer\n",
    "    model_c.add(Flatten())\n",
    "    #model_c.add(Dense(256, activation='relu'))\n",
    "    #model_c.add(Dropout(0.5))\n",
    "    model_c.add(Dense(10))\n",
    "    model_c.add(Activation('softmax'))\n",
    "    # Define loss\n",
    "    model_c.compile(optimizer = 'adam',\n",
    "                  loss = 'categorical_crossentropy',\n",
    "                  metrics = ['accuracy'])"
   ]
  },
  {
   "cell_type": "code",
   "execution_count": 6,
   "metadata": {},
   "outputs": [
    {
     "name": "stdout",
     "output_type": "stream",
     "text": [
      "Train on 60000 samples, validate on 10000 samples\n",
      "Epoch 1/10\n",
      "60000/60000 [==============================] - 43s 724us/step - loss: 0.3871 - acc: 0.8914 - val_loss: 0.1187 - val_acc: 0.9637\n",
      "Epoch 2/10\n",
      "60000/60000 [==============================] - 42s 707us/step - loss: 0.1146 - acc: 0.9662 - val_loss: 0.0787 - val_acc: 0.9760\n",
      "Epoch 3/10\n",
      "60000/60000 [==============================] - 44s 730us/step - loss: 0.0865 - acc: 0.9735 - val_loss: 0.0679 - val_acc: 0.9778\n",
      "Epoch 4/10\n",
      "60000/60000 [==============================] - 42s 702us/step - loss: 0.0736 - acc: 0.9771 - val_loss: 0.0643 - val_acc: 0.9779\n",
      "Epoch 5/10\n",
      "60000/60000 [==============================] - 41s 686us/step - loss: 0.0624 - acc: 0.9812 - val_loss: 0.0467 - val_acc: 0.9850\n",
      "Epoch 6/10\n",
      "60000/60000 [==============================] - 42s 696us/step - loss: 0.0559 - acc: 0.9830 - val_loss: 0.0483 - val_acc: 0.9847\n",
      "Epoch 7/10\n",
      "60000/60000 [==============================] - 42s 701us/step - loss: 0.0503 - acc: 0.9850 - val_loss: 0.0508 - val_acc: 0.9848\n",
      "Epoch 8/10\n",
      "60000/60000 [==============================] - 43s 711us/step - loss: 0.0470 - acc: 0.9857 - val_loss: 0.0436 - val_acc: 0.9852\n",
      "Epoch 9/10\n",
      "60000/60000 [==============================] - 44s 732us/step - loss: 0.0447 - acc: 0.9856 - val_loss: 0.0391 - val_acc: 0.9866\n",
      "Epoch 10/10\n",
      "60000/60000 [==============================] - 43s 720us/step - loss: 0.0403 - acc: 0.9879 - val_loss: 0.0425 - val_acc: 0.9867\n"
     ]
    }
   ],
   "source": [
    "history_c = model_c.fit(X_train[..., np.newaxis], y_train, \n",
    "                        batch_size = 128, epochs=10, verbose=1,\n",
    "                        validation_data=(X_test[..., np.newaxis], y_test))"
   ]
  },
  {
   "cell_type": "code",
   "execution_count": 7,
   "metadata": {},
   "outputs": [
    {
     "name": "stderr",
     "output_type": "stream",
     "text": [
      "E:\\Anaconda3\\envs\\tensorflow\\lib\\site-packages\\matplotlib\\cbook\\deprecation.py:106: MatplotlibDeprecationWarning: The set_color_cycle attribute was deprecated in version 1.5. Use set_prop_cycle instead.\n",
      "  warnings.warn(message, mplDeprecation, stacklevel=1)\n"
     ]
    },
    {
     "data": {
      "image/png": "[encoded data removed]",
      "text/plain": [
       "<matplotlib.figure.Figure at 0x20bb32b8630>"
      ]
     },
     "metadata": {},
     "output_type": "display_data"
    }
   ],
   "source": [
    "%matplotlib inline\n",
    "plt.figure()\n",
    "plt.gca().set_color_cycle(['red', 'blue'])\n",
    "plt.plot(history_c.history[\"loss\"])\n",
    "plt.plot(history_c.history[\"val_loss\"])\n",
    "plt.legend(['Train loss', 'Validation loss'], loc='upper right')\n",
    "plt.show()"
   ]
  },
  {
   "cell_type": "code",
   "execution_count": null,
   "metadata": {
    "collapsed": true
   },
   "outputs": [],
   "source": [
    "# ans\n",
    "'''\n",
    "The CNN(0.987) performs better than the MLP(0.963) does on the validation set.\n",
    "Two advantages:\n",
    "1. The convolutional layers in CNN take into consideration the relationship of neighbor pixels.\n",
    "    Filters are used for CNN, which can help us decrease the number of parameters for training.\n",
    "2. The training history shows that the CNN model can get good prediction in small epoch(0.9637 in one epoch).\n",
    "3. Although it takes long time to train a CNN model, we can speed it up on a powerful GPU.\n",
    "    I retrained this model\n",
    "'''"
   ]
  }
 ],
 "metadata": {
  "kernelspec": {
   "display_name": "Python 3",
   "language": "python",
   "name": "python3"
  },
  "language_info": {
   "codemirror_mode": {
    "name": "ipython",
    "version": 3
   },
   "file_extension": ".py",
   "mimetype": "text/x-python",
   "name": "python",
   "nbconvert_exporter": "python",
   "pygments_lexer": "ipython3",
   "version": "3.6.3"
  }
 },
 "nbformat": 4,
 "nbformat_minor": 2
}
